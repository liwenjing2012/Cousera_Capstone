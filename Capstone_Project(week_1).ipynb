{
  "nbformat": 4,
  "nbformat_minor": 0,
  "metadata": {
    "colab": {
      "name": "Capstone Project(week 1).ipynb",
      "provenance": [],
      "collapsed_sections": [],
      "authorship_tag": "ABX9TyNi8X6vFmUlYmJF3iRYc6Gk",
      "include_colab_link": true
    },
    "kernelspec": {
      "name": "python3",
      "display_name": "Python 3"
    },
    "language_info": {
      "name": "python"
    }
  },
  "cells": [
    {
      "cell_type": "markdown",
      "metadata": {
        "id": "view-in-github",
        "colab_type": "text"
      },
      "source": [
        "<a href=\"https://colab.research.google.com/github/liwenjing2012/Cousera_Capstone/blob/main/Capstone_Project(week_1).ipynb\" target=\"_parent\"><img src=\"https://colab.research.google.com/assets/colab-badge.svg\" alt=\"Open In Colab\"/></a>"
      ]
    },
    {
      "cell_type": "markdown",
      "metadata": {
        "id": "sAPaniMp7QmH"
      },
      "source": [
        "###### Cousera Capstone Project-----\n",
        "\n",
        "### *Which neighborhoods have more potentials for housing investment in the city of Austin, TX*\n",
        "\n",
        "##### *Background*\n",
        "\n",
        "\n",
        "Austin has been routinely rated as one of the best places to live in the U.S. Austin has warm weather, affordable housing as well as busy cultural scence. And in fact, the real estate market of Austin is ranked as the 7th place among the entire United States by WalletHub,based on key investment criteria such as activity in the housing market and strength of the economy. Austin's housing demand is looking pretty attractive in 2021.Home values in Austin have increased by 12.8% year-over-year and are predicted to grow by another 11.6% in 2021. As reported by Austin Business Journal, proliferating high-tech employment from companies like Apple, Google and Oracle drives home sales and prices in Austin real estate market to jump. Therefore, there is an increasing demand in the housing market and people are more likely to purchase additional houses as personal investments. Then which neighborhoods have more potentials for rapid grow in values becomes a hot topic for thoese who are interested in investing their money in Austin housing market. \n",
        "\n",
        "The project then targets on the growing prospects of 102 neighborhoods of Austin including aspects in safety, rent or own status of the residents, their job satisfication, their household income levels, housing prices, change in housing prices and nearby venues. The project will segment the neighborhoods of the city of Austin based on the above aspects and make a discussion on desicion making for which neighborhood is better to purchase a house in Austin. The target audience of this project would be anyone who is interested in moving to Austin for living and working and willing to settle down or those who is planning to invest their money in the housing market.  \n",
        "\n"
      ]
    },
    {
      "cell_type": "markdown",
      "metadata": {
        "id": "vmFYykPymbeW"
      },
      "source": [
        "##### *Data sources*\n",
        "\n",
        "\n",
        "\n",
        "*   Neighborhood Multipolygon data of Austin was collected through the open data portal: https://data.austintexas.gov/ . The centroid of each neighborhood was determined through Python functions. This dataset was used to determine the 102 neighborhoods and the corresponding coordinates in the city of Austin.\n",
        "*   Criminal data, Housing prices and pricing changes, residents' attitudes towards life, work and children raise data were all accessed through the government dataset : https://data.austintexas.gov/ . These data were used in the clustering analysis to segment neighborhoods. And these data also gave a description of each neighborhood. \n",
        "\n",
        "\n",
        "*   Venues within 1650 miles of the centroid of each neighborhood were accessed through the Foursquare API. This dataset described the nearby venues of each neighborhood and were used to find the most common venues in each neighborhood. \n",
        "\n",
        "\n",
        "\n",
        "\n"
      ]
    }
  ]
}