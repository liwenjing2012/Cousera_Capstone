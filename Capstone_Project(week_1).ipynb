{
  "nbformat": 4,
  "nbformat_minor": 0,
  "metadata": {
    "colab": {
      "name": "Capstone Project(week 1).ipynb",
      "provenance": [],
      "authorship_tag": "ABX9TyMyTPQOdVc9U1yJmKK+N8OG",
      "include_colab_link": true
    },
    "kernelspec": {
      "name": "python3",
      "display_name": "Python 3"
    },
    "language_info": {
      "name": "python"
    }
  },
  "cells": [
    {
      "cell_type": "markdown",
      "metadata": {
        "id": "view-in-github",
        "colab_type": "text"
      },
      "source": [
        "<a href=\"https://colab.research.google.com/github/liwenjing2012/Cousera_Capstone/blob/main/Capstone_Project(week_1).ipynb\" target=\"_parent\"><img src=\"https://colab.research.google.com/assets/colab-badge.svg\" alt=\"Open In Colab\"/></a>"
      ]
    },
    {
      "cell_type": "markdown",
      "metadata": {
        "id": "sAPaniMp7QmH"
      },
      "source": [
        "## Cousera Capstone Project\n",
        "\n",
        "### *Which neighborhood have more potentials for housing investment in the city of Austin*\n",
        "\n",
        "Austin has been routinely rated as one of the best places to live in the U.S. Austin has warm weather, affordable housing as well as busy cultural scence. Austin's housing demand is looking pretty attractive in 2021. As the \n"
      ]
    }
  ]
}